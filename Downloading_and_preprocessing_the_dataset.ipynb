{
  "nbformat": 4,
  "nbformat_minor": 0,
  "metadata": {
    "colab": {
      "name": "Downloading and preprocessing the dataset",
      "provenance": [],
      "collapsed_sections": []
    },
    "kernelspec": {
      "name": "python3",
      "display_name": "Python 3"
    },
    "language_info": {
      "name": "python"
    }
  },
  "cells": [
    {
      "cell_type": "markdown",
      "source": [
        "Importing necessary files"
      ],
      "metadata": {
        "id": "-_vu12I7rVlk"
      }
    },
    {
      "cell_type": "code",
      "execution_count": null,
      "metadata": {
        "id": "Dn8e0DKHG6ui"
      },
      "outputs": [],
      "source": [
        "import os\n",
        "import zipfile\n",
        "import random\n",
        "import json\n",
        "import pandas as pd\n",
        "from shutil import copyfile\n"
      ]
    },
    {
      "cell_type": "markdown",
      "source": [
        "Downloading dataset"
      ],
      "metadata": {
        "id": "_0g3hxEArCRy"
      }
    },
    {
      "cell_type": "code",
      "source": [
        "!wget https://md-datasets-public-files-prod.s3.eu-west-1.amazonaws.com/6312cfc2-6930-4530-9589-105499b29d5e -O images.zip"
      ],
      "metadata": {
        "id": "lqBBgFTDj2rc",
        "colab": {
          "base_uri": "https://localhost:8080/"
        },
        "outputId": "4f702605-618d-4469-8388-24edb42d5c75"
      },
      "execution_count": null,
      "outputs": [
        {
          "output_type": "stream",
          "name": "stdout",
          "text": [
            "--2022-06-25 00:49:09--  https://md-datasets-public-files-prod.s3.eu-west-1.amazonaws.com/6312cfc2-6930-4530-9589-105499b29d5e\n",
            "Resolving md-datasets-public-files-prod.s3.eu-west-1.amazonaws.com (md-datasets-public-files-prod.s3.eu-west-1.amazonaws.com)... 52.218.97.171\n",
            "Connecting to md-datasets-public-files-prod.s3.eu-west-1.amazonaws.com (md-datasets-public-files-prod.s3.eu-west-1.amazonaws.com)|52.218.97.171|:443... connected.\n",
            "HTTP request sent, awaiting response... 200 OK\n",
            "Length: 6758950318 (6.3G) [application/x-zip-compressed]\n",
            "Saving to: ‘images.zip’\n",
            "\n",
            "images.zip          100%[===================>]   6.29G  29.4MB/s    in 3m 42s  \n",
            "\n",
            "2022-06-25 00:52:51 (29.0 MB/s) - ‘images.zip’ saved [6758950318/6758950318]\n",
            "\n"
          ]
        }
      ]
    },
    {
      "cell_type": "markdown",
      "source": [
        "Unziping Dataset"
      ],
      "metadata": {
        "id": "hDb7tpVprhgq"
      }
    },
    {
      "cell_type": "code",
      "source": [
        "local_zip = '/content/images.zip'\n",
        "zip_ref = zipfile.ZipFile(local_zip, 'r')\n",
        "zip_ref.extractall('/content/drive/MyDrive/Colab Notebooks/BanglaImageCaption/Temp')"
      ],
      "metadata": {
        "id": "y634AAjejebp"
      },
      "execution_count": null,
      "outputs": []
    },
    {
      "cell_type": "markdown",
      "source": [
        "Downloading annotations"
      ],
      "metadata": {
        "id": "xWTa6YhfrmEX"
      }
    },
    {
      "cell_type": "code",
      "source": [
        "!wget https://data.mendeley.com/public-files/datasets/rxxch9vw59/files/9b3e789a-5a5c-48b3-8a2c-2c91e9307c2a/file_downloaded -O'/content/drive/MyDrive/Colab Notebooks/BanglaImageCaption/Temp/annotations.json'"
      ],
      "metadata": {
        "colab": {
          "base_uri": "https://localhost:8080/"
        },
        "id": "UXLc0e1ro5Ny",
        "outputId": "6d67a51c-f1b9-4296-db16-aea1b11cf42f"
      },
      "execution_count": null,
      "outputs": [
        {
          "output_type": "stream",
          "name": "stdout",
          "text": [
            "--2022-06-25 01:03:13--  https://data.mendeley.com/public-files/datasets/rxxch9vw59/files/9b3e789a-5a5c-48b3-8a2c-2c91e9307c2a/file_downloaded\n",
            "Resolving data.mendeley.com (data.mendeley.com)... 162.159.133.86, 162.159.130.86\n",
            "Connecting to data.mendeley.com (data.mendeley.com)|162.159.133.86|:443... connected.\n",
            "HTTP request sent, awaiting response... 302 Found\n",
            "Location: https://md-datasets-public-files-prod.s3.eu-west-1.amazonaws.com/0acef4de-4a98-4efb-bc8c-8c766e0a3ca0 [following]\n",
            "--2022-06-25 01:03:14--  https://md-datasets-public-files-prod.s3.eu-west-1.amazonaws.com/0acef4de-4a98-4efb-bc8c-8c766e0a3ca0\n",
            "Resolving md-datasets-public-files-prod.s3.eu-west-1.amazonaws.com (md-datasets-public-files-prod.s3.eu-west-1.amazonaws.com)... 52.218.92.96\n",
            "Connecting to md-datasets-public-files-prod.s3.eu-west-1.amazonaws.com (md-datasets-public-files-prod.s3.eu-west-1.amazonaws.com)|52.218.92.96|:443... connected.\n",
            "HTTP request sent, awaiting response... 200 OK\n",
            "Length: 2649168 (2.5M) [application/json]\n",
            "Saving to: ‘/content/drive/MyDrive/Colab Notebooks/BanglaImageCaption/Temp/annotations.json’\n",
            "\n",
            "/content/drive/MyDr 100%[===================>]   2.53M  3.49MB/s    in 0.7s    \n",
            "\n",
            "2022-06-25 01:03:15 (3.49 MB/s) - ‘/content/drive/MyDrive/Colab Notebooks/BanglaImageCaption/Temp/annotations.json’ saved [2649168/2649168]\n",
            "\n"
          ]
        }
      ]
    },
    {
      "cell_type": "markdown",
      "source": [
        "Splitting Train and Validation files"
      ],
      "metadata": {
        "id": "PmIbGuY_rqLf"
      }
    },
    {
      "cell_type": "code",
      "source": [
        "SrcDir = '/content/drive/MyDrive/Colab Notebooks/BanglaImageCaption/Temp/images/'\n",
        "ParentFile = '/content/drive/MyDrive/Colab Notebooks/BanglaImageCaption/Data'"
      ],
      "metadata": {
        "id": "fBbkO8Z1u-KZ"
      },
      "execution_count": null,
      "outputs": []
    },
    {
      "cell_type": "code",
      "source": [
        "TrainDir = os.path.join(ParentFile, 'Train/')\n",
        "ValDir = os.path.join(ParentFile, 'Val/')\n",
        "dfTrain = pd.DataFrame()\n",
        "dfVal = pd.DataFrame()\n",
        "df = pd.read_json('/content/drive/MyDrive/Colab Notebooks/BanglaImageCaption/Temp/annotations.json', orient='records')\n",
        "\n",
        "ImageNames = []\n",
        "for FileName in os.listdir(SrcDir):\n",
        "\n",
        "    ImagePath = (SrcDir + FileName )\n",
        "    if os.path.getsize(ImagePath) > 0:\n",
        "      ImageNames.append(FileName)\n",
        "    else:\n",
        "      print(FileName  + \" is zero length, so ignoring.\")\n",
        "\n",
        "random.shuffle(ImageNames)\n",
        "RandImageNames = ImageNames\n",
        "\n",
        "SplitRatio = .75\n",
        "\n",
        "TrainingSet = RandImageNames[: int(len(RandImageNames) * SplitRatio)]\n",
        "ValSet = RandImageNames[int(len(RandImageNames) * SplitRatio):]\n",
        "\n",
        "for TrainImage in TrainingSet:\n",
        "  copyfile( SrcDir + TrainImage , TrainDir + TrainImage  )\n",
        "  dfTrain = dfTrain.append(df[df[\"filename\"] == TrainImage])\n",
        "\n",
        "for ValImage in ValSet:\n",
        "  copyfile( SrcDir + ValImage , ValDir + ValImage  )\n",
        "  dfVal = dfVal.append(df[df[\"filename\"] == ValImage])\n",
        "\n",
        "#saving the train and validation images in separate files\n",
        "TrainAnnot = dfTrain.to_json('/content/drive/MyDrive/Colab Notebooks/BanglaImageCaption/Data/TrainAnnotations.json', orient='records', force_ascii=False)\n",
        "ValAnnot = dfVal.to_json('/content/drive/MyDrive/Colab Notebooks/BanglaImageCaption/Data/ValAnnotations.json', orient='records', force_ascii=False)\n",
        "  \n"
      ],
      "metadata": {
        "id": "p3yOvslSqoHc"
      },
      "execution_count": null,
      "outputs": []
    }
  ]
}